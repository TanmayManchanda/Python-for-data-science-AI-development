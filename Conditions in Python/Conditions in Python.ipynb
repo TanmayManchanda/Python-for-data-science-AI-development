{
 "cells": [
  {
   "cell_type": "markdown",
   "id": "a4e9384e",
   "metadata": {},
   "source": [
    "# Condition Statements"
   ]
  },
  {
   "cell_type": "markdown",
   "id": "697f6ec1",
   "metadata": {},
   "source": [
    "# Comparison Operators"
   ]
  },
  {
   "cell_type": "markdown",
   "id": "1ac0ef6c",
   "metadata": {},
   "source": [
    "Comparison operations compare some value or operand and based on a condition, produce a Boolean. When comparing two values you can use these operators:\n",
    "\n",
    "equal: ==\n",
    "not equal: !=\n",
    "greater than: >\n",
    "less than: <\n",
    "greater than or equal to: >=\n",
    "less than or equal to: <="
   ]
  },
  {
   "cell_type": "code",
   "execution_count": 1,
   "id": "d3c51cff",
   "metadata": {},
   "outputs": [
    {
     "data": {
      "text/plain": [
       "False"
      ]
     },
     "execution_count": 1,
     "metadata": {},
     "output_type": "execute_result"
    }
   ],
   "source": [
    "# condition equal\n",
    "\n",
    "a = 5\n",
    "\n",
    "a == 6"
   ]
  },
  {
   "cell_type": "code",
   "execution_count": 2,
   "id": "31caa795",
   "metadata": {},
   "outputs": [
    {
     "data": {
      "text/plain": [
       "True"
      ]
     },
     "execution_count": 2,
     "metadata": {},
     "output_type": "execute_result"
    }
   ],
   "source": [
    "# greater than sign\n",
    "\n",
    "i = 6\n",
    "\n",
    "i > 5"
   ]
  },
  {
   "cell_type": "code",
   "execution_count": 3,
   "id": "ffb27d76",
   "metadata": {},
   "outputs": [
    {
     "data": {
      "text/plain": [
       "False"
      ]
     },
     "execution_count": 3,
     "metadata": {},
     "output_type": "execute_result"
    }
   ],
   "source": [
    "i = 2\n",
    "    \n",
    "i > 5"
   ]
  },
  {
   "cell_type": "code",
   "execution_count": 4,
   "id": "f426b069",
   "metadata": {},
   "outputs": [
    {
     "data": {
      "text/plain": [
       "True"
      ]
     },
     "execution_count": 4,
     "metadata": {},
     "output_type": "execute_result"
    }
   ],
   "source": [
    "# inequality sign\n",
    "\n",
    "i = 2\n",
    "i != 6"
   ]
  },
  {
   "cell_type": "code",
   "execution_count": 5,
   "id": "ba272695",
   "metadata": {},
   "outputs": [
    {
     "data": {
      "text/plain": [
       "False"
      ]
     },
     "execution_count": 5,
     "metadata": {},
     "output_type": "execute_result"
    }
   ],
   "source": [
    "i = 6\n",
    "\n",
    "i != 6\n"
   ]
  },
  {
   "cell_type": "code",
   "execution_count": 6,
   "id": "f82210fb",
   "metadata": {},
   "outputs": [
    {
     "data": {
      "text/plain": [
       "False"
      ]
     },
     "execution_count": 6,
     "metadata": {},
     "output_type": "execute_result"
    }
   ],
   "source": [
    "# Use Equality sign to compare the strings\n",
    "\n",
    "\"ACDC\" == \"Michael Jackson\""
   ]
  },
  {
   "cell_type": "code",
   "execution_count": 7,
   "id": "2629c608",
   "metadata": {},
   "outputs": [
    {
     "data": {
      "text/plain": [
       "True"
      ]
     },
     "execution_count": 7,
     "metadata": {},
     "output_type": "execute_result"
    }
   ],
   "source": [
    "# Use Inequality sign to compare the strings\n",
    "\n",
    "\"ACDC\" != \"Michael Jackson\""
   ]
  },
  {
   "cell_type": "code",
   "execution_count": 8,
   "id": "a9e9d0a1",
   "metadata": {},
   "outputs": [
    {
     "data": {
      "text/plain": [
       "True"
      ]
     },
     "execution_count": 8,
     "metadata": {},
     "output_type": "execute_result"
    }
   ],
   "source": [
    "# Similarly, from the ASCII table we see that the value for A is 65, and the value for B is 66, therefore:\n",
    "# Compare characters\n",
    "\n",
    "'B' > 'A'"
   ]
  },
  {
   "cell_type": "code",
   "execution_count": 9,
   "id": "e1055530",
   "metadata": {},
   "outputs": [
    {
     "data": {
      "text/plain": [
       "True"
      ]
     },
     "execution_count": 9,
     "metadata": {},
     "output_type": "execute_result"
    }
   ],
   "source": [
    "# Compare characters\n",
    "# When there are multiple letters, the first letter takes precedence in ordering:\n",
    "'BA' > 'AB'"
   ]
  },
  {
   "cell_type": "markdown",
   "id": "ba5ded3d",
   "metadata": {},
   "source": [
    "Note: Upper Case Letters have different ASCII code than Lower Case Letters, which means the comparison between the letters in Python is case-sensitive."
   ]
  },
  {
   "cell_type": "markdown",
   "id": "19b3fe1e",
   "metadata": {},
   "source": [
    "### Branching"
   ]
  },
  {
   "cell_type": "markdown",
   "id": "1106ac84",
   "metadata": {},
   "source": [
    "Branching allows us to run different statements for different inputs. It is helpful to think of an if statement as a locked room, if the statement is True we can enter the room and your program will run some predefined tasks, but if the statement is False the program will ignore the task.\n",
    "\n",
    "For example, consider the blue rectangle representing an ACDC concert. If the individual is older than 18, they can enter the ACDC concert. If they are 18 or younger, they cannot enter the concert.\n",
    "\n",
    "We can use the condition statements learned before as the conditions that need to be checked in the if statement. The syntax is as simple as  if condition statement :, which contains a word if, any condition statement, and a colon at the end. Start your tasks which need to be executed under this condition in a new line with an indent. The lines of code after the colon and with an indent will only be executed when the if statement is True. The tasks will end when the line of code does not contain the indent.\n",
    "\n",
    "In the case below, the code print(“you can enter”) is executed only if the variable age is greater than 18 is a True case because this line of code has the indent. However, the execution of print(“move on”) will not be influenced by the if statement."
   ]
  },
  {
   "cell_type": "code",
   "execution_count": 10,
   "id": "ca0aaaf0",
   "metadata": {},
   "outputs": [
    {
     "name": "stdout",
     "output_type": "stream",
     "text": [
      "You can enter\n",
      "move on\n"
     ]
    }
   ],
   "source": [
    "# if statement example\n",
    "\n",
    "age = 19\n",
    "# age = 18\n",
    "\n",
    "# expression that can be true or false \n",
    "\n",
    "if age > 18:\n",
    "    #within an indent , we have the expression that is run if the condition is true \n",
    "    print(\"You can enter\")\n",
    "\n",
    "#The statements after the if statement will run regardless if the condition is true or false \n",
    "print(\"move on\")"
   ]
  },
  {
   "cell_type": "code",
   "execution_count": 11,
   "id": "8d5f3dc2",
   "metadata": {},
   "outputs": [
    {
     "name": "stdout",
     "output_type": "stream",
     "text": [
      "go see Meat Loaf\n",
      "move on\n"
     ]
    }
   ],
   "source": [
    "# Else statement example\n",
    "\n",
    "age = 18\n",
    "# age = 19\n",
    "\n",
    "if age > 18:\n",
    "    print(\"you can enter\" )\n",
    "else:\n",
    "    print(\"go see Meat Loaf\" )\n",
    "    \n",
    "print(\"move on\")"
   ]
  },
  {
   "cell_type": "markdown",
   "id": "0a17f242",
   "metadata": {},
   "source": [
    "The elif statement, short for else if, allows us to check additional conditions if the condition statements before it are False. If the condition for the elif statement is True, the alternate expressions will be run. Consider the concert example, where if the individual is 18 they will go to the Pink Floyd concert instead of attending the ACDC or Meat-loaf concert. A person that is 18 years of age enters the area, and as they are not older than 18 they can not see ACDC, but since they are 18 years of age, they attend Pink Floyd. After seeing Pink Floyd, they move on. The syntax of the elif statement is similar in that we merely change the if in the if statement to elif."
   ]
  },
  {
   "cell_type": "code",
   "execution_count": 12,
   "id": "a759bc26",
   "metadata": {},
   "outputs": [
    {
     "name": "stdout",
     "output_type": "stream",
     "text": [
      "go see Pink Floyd\n",
      "move on\n"
     ]
    }
   ],
   "source": [
    "# Elif statment example\n",
    "\n",
    "age = 18\n",
    "\n",
    "if age > 18:\n",
    "    print(\"you can enter\" )\n",
    "elif age == 18:\n",
    "    print(\"go see Pink Floyd\")\n",
    "else:\n",
    "    print(\"go see Meat Loaf\" )\n",
    "    \n",
    "print(\"move on\")"
   ]
  },
  {
   "cell_type": "code",
   "execution_count": 13,
   "id": "e65af38d",
   "metadata": {},
   "outputs": [
    {
     "name": "stdout",
     "output_type": "stream",
     "text": [
      "do something..\n"
     ]
    }
   ],
   "source": [
    "# Condition statement example\n",
    "\n",
    "album_year = 1983\n",
    "album_year = 1970\n",
    "\n",
    "if album_year > 1980:\n",
    "    print(\"Album year is greater than 1980\")\n",
    "    \n",
    "print('do something..')"
   ]
  },
  {
   "cell_type": "code",
   "execution_count": 14,
   "id": "3054224d",
   "metadata": {},
   "outputs": [
    {
     "name": "stdout",
     "output_type": "stream",
     "text": [
      "Album year is greater than 1980\n",
      "do something..\n"
     ]
    }
   ],
   "source": [
    "# Condition statement example\n",
    "\n",
    "album_year = 1983\n",
    "#album_year = 1970\n",
    "\n",
    "if album_year > 1980:\n",
    "    print(\"Album year is greater than 1980\")\n",
    "else:\n",
    "    print(\"less than 1980\")\n",
    "\n",
    "print('do something..')"
   ]
  },
  {
   "cell_type": "code",
   "execution_count": 15,
   "id": "38e936af",
   "metadata": {},
   "outputs": [
    {
     "name": "stdout",
     "output_type": "stream",
     "text": [
      "Album year was in between 1980 and 1989\n",
      "\n",
      "Do Stuff..\n"
     ]
    }
   ],
   "source": [
    "# Condition statement example\n",
    "\n",
    "album_year = 1980\n",
    "\n",
    "if(album_year > 1979) and (album_year < 1990):\n",
    "    print (\"Album year was in between 1980 and 1989\")\n",
    "    \n",
    "print(\"\")\n",
    "print(\"Do Stuff..\")"
   ]
  },
  {
   "cell_type": "code",
   "execution_count": 16,
   "id": "b75f0ccf",
   "metadata": {},
   "outputs": [
    {
     "name": "stdout",
     "output_type": "stream",
     "text": [
      "Album was not made in the 1980's\n"
     ]
    }
   ],
   "source": [
    "# Condition statement example\n",
    "\n",
    "album_year = 1990\n",
    "\n",
    "if(album_year < 1980) or (album_year > 1989):\n",
    "    print (\"Album was not made in the 1980's\")\n",
    "else:\n",
    "    print(\"The Album was made in the 1980's \")"
   ]
  },
  {
   "cell_type": "code",
   "execution_count": 17,
   "id": "75c8f204",
   "metadata": {},
   "outputs": [
    {
     "name": "stdout",
     "output_type": "stream",
     "text": [
      "Album year is not 1984\n"
     ]
    }
   ],
   "source": [
    "# Condition statement example\n",
    "\n",
    "album_year = 1983\n",
    "\n",
    "if not (album_year == 1984):\n",
    "    print (\"Album year is not 1984\")"
   ]
  },
  {
   "cell_type": "markdown",
   "id": "d41a37b9",
   "metadata": {},
   "source": [
    "### Quiz"
   ]
  },
  {
   "cell_type": "markdown",
   "id": "60a0a643",
   "metadata": {},
   "source": [
    "Write an if statement to determine if an album had a rating greater than 8. Test it using the rating for the album “Back in Black” that had a rating of 8.5. If the statement is true print \"This album is Amazing!\""
   ]
  },
  {
   "cell_type": "code",
   "execution_count": 18,
   "id": "4fa483da",
   "metadata": {},
   "outputs": [
    {
     "name": "stdout",
     "output_type": "stream",
     "text": [
      "This album is Amazing!\n"
     ]
    }
   ],
   "source": [
    "Back_in_black = 8.5\n",
    "\n",
    "if Back_in_black > 8:\n",
    "    print(\"This album is Amazing!\")\n"
   ]
  },
  {
   "cell_type": "markdown",
   "id": "d7819a23",
   "metadata": {},
   "source": [
    "Write an if-else statement that performs the following. If the rating is larger then eight print “this album is amazing”. If the rating is less than or equal to 8 print “this album is ok”."
   ]
  },
  {
   "cell_type": "code",
   "execution_count": 19,
   "id": "b32ef356",
   "metadata": {},
   "outputs": [
    {
     "name": "stdout",
     "output_type": "stream",
     "text": [
      "this album is amazing\n"
     ]
    }
   ],
   "source": [
    "rating = 8.5\n",
    "\n",
    "if rating > 8:\n",
    "    print(\"this album is amazing\")\n",
    "\n",
    "else:\n",
    "    print(\"this album is ok\")"
   ]
  },
  {
   "cell_type": "markdown",
   "id": "75cf21ee",
   "metadata": {},
   "source": [
    "Write an if statement to determine if an album came out before 1980 or in the years: 1991 or 1993. If the condition is true print out the year the album came out."
   ]
  },
  {
   "cell_type": "code",
   "execution_count": 20,
   "id": "72cebb8f",
   "metadata": {},
   "outputs": [],
   "source": [
    "album_year = 1979\n",
    "\n",
    "if album_year < 1979 or album_year == 1991 or album_year == 1993:\n",
    "    print(\"This album came out in the year\", album_year)"
   ]
  },
  {
   "cell_type": "code",
   "execution_count": null,
   "id": "1edde874",
   "metadata": {},
   "outputs": [],
   "source": []
  }
 ],
 "metadata": {
  "kernelspec": {
   "display_name": "Python 3 (ipykernel)",
   "language": "python",
   "name": "python3"
  },
  "language_info": {
   "codemirror_mode": {
    "name": "ipython",
    "version": 3
   },
   "file_extension": ".py",
   "mimetype": "text/x-python",
   "name": "python",
   "nbconvert_exporter": "python",
   "pygments_lexer": "ipython3",
   "version": "3.9.12"
  }
 },
 "nbformat": 4,
 "nbformat_minor": 5
}
